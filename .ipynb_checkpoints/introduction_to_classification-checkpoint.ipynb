{
 "cells": [
  {
   "cell_type": "markdown",
   "metadata": {},
   "source": [
    "__The First Project__"
   ]
  },
  {
   "cell_type": "markdown",
   "metadata": {},
   "source": [
    "If I think in 2 classes I can create 2 class (Dog and Pig) and create an classification for anyone... When Dog is equal to 0 and pig is equal to 1"
   ]
  },
  {
   "cell_type": "markdown",
   "metadata": {},
   "source": [
    "Characterists/Features:\n",
    "    -   Long Hair/beard\n",
    "    -   Short legs\n",
    "    -   Sounds\n",
    "\n",
    "Charecterists or Features receive the popular commun name of __X__ and the result classification receive the popular commmun name of __Y__\n",
    "\n"
   ]
  },
  {
   "cell_type": "markdown",
   "metadata": {},
   "source": [
    "Features => Classification"
   ]
  },
  {
   "cell_type": "markdown",
   "metadata": {},
   "source": [
    "1.  Features\n",
    "2.  Itens\n",
    "3.  Trainning\n",
    "4.  Test\n",
    "5.  Right Rates\n",
    "6.  Optimize\n",
    "7.  Predict"
   ]
  },
  {
   "cell_type": "code",
   "execution_count": 2,
   "metadata": {},
   "outputs": [
    {
     "data": {
      "text/plain": [
       "[1, 1, 1, 0, 0, 0]"
      ]
     },
     "execution_count": 2,
     "metadata": {},
     "output_type": "execute_result"
    }
   ],
   "source": [
    "#Features of a Pig/Item\n",
    "#short? $leg short?# #make au-au?\n",
    "pigone = [0, 1, 0]\n",
    "pigtwo = [0, 1, 1]\n",
    "pigthree = [1, 1, 0]\n",
    "\n",
    "dogone = [0, 1, 1]\n",
    "dogtwo = [1, 0, 1]\n",
    "dogthree = [1, 1, 1]\n",
    "\n",
    "\n",
    "#-> Pig\n",
    "#-> Dog\n",
    "\n",
    "data = [pigone, pigtwo, pigthree, dogone, dogtwo, dogthree]\n",
    "classess  = [1, 1, 1, 0, 0, 0]\n",
    "\n",
    "\n"
   ]
  },
  {
   "cell_type": "code",
   "execution_count": 1,
   "metadata": {},
   "outputs": [],
   "source": [
    "from sklearn.svm import LinearSVC\n",
    "\n",
    "modeal_linear_svc = LinearSVC()\n",
    "model_linear_svc = \n"
   ]
  },
  {
   "cell_type": "code",
   "execution_count": null,
   "metadata": {},
   "outputs": [],
   "source": []
  }
 ],
 "metadata": {
  "kernelspec": {
   "display_name": "Python 3 (ipykernel)",
   "language": "python",
   "name": "python3"
  },
  "language_info": {
   "codemirror_mode": {
    "name": "ipython",
    "version": 3
   },
   "file_extension": ".py",
   "mimetype": "text/x-python",
   "name": "python",
   "nbconvert_exporter": "python",
   "pygments_lexer": "ipython3",
   "version": "3.9.13"
  }
 },
 "nbformat": 4,
 "nbformat_minor": 2
}
