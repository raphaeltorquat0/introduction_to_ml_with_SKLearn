{
 "cells": [
  {
   "cell_type": "markdown",
   "metadata": {},
   "source": [
    "__The First Project__"
   ]
  },
  {
   "cell_type": "markdown",
   "metadata": {},
   "source": [
    "If I think in 2 classes I can create 2 class (Dog and Pig) and create an classification for anyone... When Dog is equal to 0 and pig is equal to 1"
   ]
  },
  {
   "cell_type": "markdown",
   "metadata": {},
   "source": [
    "Characterists/Features:\n",
    "    -   Long Hair/beard\n",
    "    -   Short legs\n",
    "    -   Sounds\n",
    "\n",
    "Charecterists or Features receive the popular commun name of __X__ and the result classification receive the popular commmun name of __Y__\n",
    "\n"
   ]
  },
  {
   "cell_type": "markdown",
   "metadata": {},
   "source": [
    "Features => Classification"
   ]
  },
  {
   "cell_type": "markdown",
   "metadata": {},
   "source": [
    "1.  Features\n",
    "2.  Itens\n",
    "3.  Trainning\n",
    "4.  Test\n",
    "5.  Accuracy Rate\n",
    "6.  Optimize\n",
    "7.  Predict"
   ]
  },
  {
   "cell_type": "code",
   "execution_count": 11,
   "metadata": {
    "scrolled": true
   },
   "outputs": [
    {
     "data": {
      "text/plain": [
       "LinearSVC()"
      ]
     },
     "execution_count": 11,
     "metadata": {},
     "output_type": "execute_result"
    }
   ],
   "source": [
    "from sklearn.svm import LinearSVC\n",
    "\n",
    "model_linear_svc = LinearSVC()\n",
    "model_linear_svc.fit(training_x,training_y)\n"
   ]
  },
  {
   "cell_type": "code",
   "execution_count": 3,
   "metadata": {},
   "outputs": [],
   "source": [
    "#Features of a Pig/Item\n",
    "#short? $leg short?# #make au-au?\n",
    "pigone = [0, 1, 0]\n",
    "pigtwo = [0, 1, 1]\n",
    "pigthree = [1, 1, 0]\n",
    "\n",
    "dogone = [0, 1, 1]\n",
    "dogtwo = [1, 0, 1]\n",
    "dogthree = [1, 1, 1]\n",
    "\n",
    "\n",
    "#-> Pig\n",
    "#-> Dog\n",
    "\n",
    "training_x = [pigone, pigtwo, pigthree, dogone, dogtwo, dogthree]\n",
    "training_y  = [1, 1, 1, 0, 0, 0]  #labels\n",
    "\n",
    "\n"
   ]
  },
  {
   "cell_type": "code",
   "execution_count": null,
   "metadata": {},
   "outputs": [],
   "source": []
  },
  {
   "cell_type": "code",
   "execution_count": null,
   "metadata": {},
   "outputs": [],
   "source": []
  },
  {
   "cell_type": "code",
   "execution_count": 4,
   "metadata": {},
   "outputs": [
    {
     "data": {
      "text/plain": [
       "LinearSVC()"
      ]
     },
     "execution_count": 4,
     "metadata": {},
     "output_type": "execute_result"
    }
   ],
   "source": [
    "from sklearn.svm import LinearSVC\n",
    "\n",
    "model_linear_svc = LinearSVC()\n",
    "model_linear_svc.fit(training_x,training_y)\n"
   ]
  },
  {
   "cell_type": "code",
   "execution_count": null,
   "metadata": {},
   "outputs": [],
   "source": [
    "stranger_animal = [1, 1, 1]\n",
    "model_linear_svc.predict([stranger_animal])"
   ]
  },
  {
   "cell_type": "code",
   "execution_count": 5,
   "metadata": {},
   "outputs": [],
   "source": [
    "stranger_animal_one = [1, 1, 1]\n",
    "stranger_animal_two = [1, 1, 0]\n",
    "stranger_animal_three = [0, 1, 1]\n",
    "\n",
    "test_x = [stranger_animal_one, stranger_animal_two, stranger_animal_three]\n",
    "test_y = [0, 1, 1]\n",
    "predictions = model_linear_svc.predict(test_x)\n"
   ]
  },
  {
   "cell_type": "code",
   "execution_count": null,
   "metadata": {},
   "outputs": [],
   "source": [
    "tests_new_classes"
   ]
  },
  {
   "cell_type": "code",
   "execution_count": 9,
   "metadata": {},
   "outputs": [
    {
     "name": "stdout",
     "output_type": "stream",
     "text": [
      "The total right rate is: 67\n"
     ]
    }
   ],
   "source": [
    "correct_answers = (predictions == test_y).sum()\n",
    "total = len(test_x)\n",
    "accuracy_rate = correct_answers / total\n",
    "\n",
    "print(\"The total right rate is: %2.f\" % (accuracy_rate * 100))"
   ]
  },
  {
   "cell_type": "code",
   "execution_count": 10,
   "metadata": {},
   "outputs": [
    {
     "name": "stdout",
     "output_type": "stream",
     "text": [
      "The total right rate is: 67\n"
     ]
    }
   ],
   "source": [
    "from sklearn.metrics import accuracy_score\n",
    "\n",
    "accuracy_ranking = accuracy_score(test_y, predictions)\n",
    "print(\"The total right rate is: %2.f\" % (accuracy_rate * 100))"
   ]
  },
  {
   "cell_type": "code",
   "execution_count": null,
   "metadata": {},
   "outputs": [],
   "source": []
  }
 ],
 "metadata": {
  "kernelspec": {
   "display_name": "Python 3 (ipykernel)",
   "language": "python",
   "name": "python3"
  },
  "language_info": {
   "codemirror_mode": {
    "name": "ipython",
    "version": 3
   },
   "file_extension": ".py",
   "mimetype": "text/x-python",
   "name": "python",
   "nbconvert_exporter": "python",
   "pygments_lexer": "ipython3",
   "version": "3.9.13"
  }
 },
 "nbformat": 4,
 "nbformat_minor": 2
}
