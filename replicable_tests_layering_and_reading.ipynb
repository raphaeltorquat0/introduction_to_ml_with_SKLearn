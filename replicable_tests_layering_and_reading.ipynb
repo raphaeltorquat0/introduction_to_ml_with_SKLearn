{
 "cells": [
  {
   "cell_type": "code",
   "execution_count": 1,
   "id": "73d4e8b7",
   "metadata": {},
   "outputs": [],
   "source": [
    "import pandas as pd\n",
    "uri = \"https://gist.githubusercontent.com/guilhermesilveira/2d2efa37d66b6c84a722ea627a897ced/raw/10968b997d885cbded1c92938c7a9912ba41c615/tracking.csv\"\n",
    "all_data = pd.read_csv(uri)"
   ]
  },
  {
   "cell_type": "code",
   "execution_count": 2,
   "id": "66dbf00e",
   "metadata": {},
   "outputs": [],
   "source": [
    "map = {\n",
    "    \"home\": \"principal\",\n",
    "    \"how_it_works\": \"como_funciona\",\n",
    "    \"contact\": \"contato\",\n",
    "    \"bought\": \"comprado\"\n",
    "}\n",
    "\n",
    "all_data = all_data.rename(columns = map)\n",
    "x = all_data[[\"principal\", \"como_funciona\", \"contato\"]]\n",
    "y = all_data[\"comprado\"]"
   ]
  },
  {
   "cell_type": "code",
   "execution_count": 3,
   "id": "c9f534df",
   "metadata": {},
   "outputs": [
    {
     "data": {
      "text/html": [
       "<div>\n",
       "<style scoped>\n",
       "    .dataframe tbody tr th:only-of-type {\n",
       "        vertical-align: middle;\n",
       "    }\n",
       "\n",
       "    .dataframe tbody tr th {\n",
       "        vertical-align: top;\n",
       "    }\n",
       "\n",
       "    .dataframe thead th {\n",
       "        text-align: right;\n",
       "    }\n",
       "</style>\n",
       "<table border=\"1\" class=\"dataframe\">\n",
       "  <thead>\n",
       "    <tr style=\"text-align: right;\">\n",
       "      <th></th>\n",
       "      <th>principal</th>\n",
       "      <th>como_funciona</th>\n",
       "      <th>contato</th>\n",
       "    </tr>\n",
       "  </thead>\n",
       "  <tbody>\n",
       "    <tr>\n",
       "      <th>0</th>\n",
       "      <td>1</td>\n",
       "      <td>1</td>\n",
       "      <td>0</td>\n",
       "    </tr>\n",
       "    <tr>\n",
       "      <th>1</th>\n",
       "      <td>1</td>\n",
       "      <td>1</td>\n",
       "      <td>0</td>\n",
       "    </tr>\n",
       "    <tr>\n",
       "      <th>2</th>\n",
       "      <td>1</td>\n",
       "      <td>1</td>\n",
       "      <td>0</td>\n",
       "    </tr>\n",
       "    <tr>\n",
       "      <th>3</th>\n",
       "      <td>1</td>\n",
       "      <td>1</td>\n",
       "      <td>0</td>\n",
       "    </tr>\n",
       "    <tr>\n",
       "      <th>4</th>\n",
       "      <td>1</td>\n",
       "      <td>1</td>\n",
       "      <td>0</td>\n",
       "    </tr>\n",
       "    <tr>\n",
       "      <th>...</th>\n",
       "      <td>...</td>\n",
       "      <td>...</td>\n",
       "      <td>...</td>\n",
       "    </tr>\n",
       "    <tr>\n",
       "      <th>94</th>\n",
       "      <td>0</td>\n",
       "      <td>0</td>\n",
       "      <td>1</td>\n",
       "    </tr>\n",
       "    <tr>\n",
       "      <th>95</th>\n",
       "      <td>1</td>\n",
       "      <td>1</td>\n",
       "      <td>1</td>\n",
       "    </tr>\n",
       "    <tr>\n",
       "      <th>96</th>\n",
       "      <td>0</td>\n",
       "      <td>0</td>\n",
       "      <td>1</td>\n",
       "    </tr>\n",
       "    <tr>\n",
       "      <th>97</th>\n",
       "      <td>0</td>\n",
       "      <td>1</td>\n",
       "      <td>0</td>\n",
       "    </tr>\n",
       "    <tr>\n",
       "      <th>98</th>\n",
       "      <td>0</td>\n",
       "      <td>0</td>\n",
       "      <td>0</td>\n",
       "    </tr>\n",
       "  </tbody>\n",
       "</table>\n",
       "<p>99 rows × 3 columns</p>\n",
       "</div>"
      ],
      "text/plain": [
       "    principal  como_funciona  contato\n",
       "0           1              1        0\n",
       "1           1              1        0\n",
       "2           1              1        0\n",
       "3           1              1        0\n",
       "4           1              1        0\n",
       "..        ...            ...      ...\n",
       "94          0              0        1\n",
       "95          1              1        1\n",
       "96          0              0        1\n",
       "97          0              1        0\n",
       "98          0              0        0\n",
       "\n",
       "[99 rows x 3 columns]"
      ]
     },
     "execution_count": 3,
     "metadata": {},
     "output_type": "execute_result"
    }
   ],
   "source": [
    "x"
   ]
  },
  {
   "cell_type": "code",
   "execution_count": 4,
   "id": "0f68c2cb",
   "metadata": {},
   "outputs": [
    {
     "data": {
      "text/plain": [
       "0     0\n",
       "1     0\n",
       "2     0\n",
       "3     0\n",
       "4     0\n",
       "     ..\n",
       "94    0\n",
       "95    1\n",
       "96    0\n",
       "97    0\n",
       "98    0\n",
       "Name: comprado, Length: 99, dtype: int64"
      ]
     },
     "execution_count": 4,
     "metadata": {},
     "output_type": "execute_result"
    }
   ],
   "source": [
    "y"
   ]
  },
  {
   "cell_type": "code",
   "execution_count": 5,
   "id": "3c88bddb",
   "metadata": {},
   "outputs": [
    {
     "data": {
      "text/plain": [
       "(99, 4)"
      ]
     },
     "execution_count": 5,
     "metadata": {},
     "output_type": "execute_result"
    }
   ],
   "source": [
    "all_data.shape"
   ]
  },
  {
   "cell_type": "code",
   "execution_count": 6,
   "id": "4e62233b",
   "metadata": {},
   "outputs": [
    {
     "name": "stdout",
     "output_type": "stream",
     "text": [
      "Training with 75 elements and testing with 24 elements\n"
     ]
    }
   ],
   "source": [
    "training_x = x[:75]\n",
    "training_y = y[:75]\n",
    "test_x = x[75:]\n",
    "test_y = y[75:]\n",
    "\n",
    "print(\"Training with %d elements and testing with %d elements\" %(len(training_x), len(test_x)))\n"
   ]
  },
  {
   "cell_type": "code",
   "execution_count": 7,
   "id": "88146b60",
   "metadata": {},
   "outputs": [],
   "source": [
    "from sklearn.svm import LinearSVC\n",
    "from sklearn.metrics import accuracy_score\n",
    "from sklearn.model_selection import train_test_split"
   ]
  },
  {
   "cell_type": "code",
   "execution_count": 8,
   "id": "da4a6ce1",
   "metadata": {},
   "outputs": [
    {
     "name": "stdout",
     "output_type": "stream",
     "text": [
      "Training with 74 elements and testing with 25 elements\n",
      "The acurracy is: 96.00%\n"
     ]
    }
   ],
   "source": [
    "SEED = 20\n",
    "\n",
    "\n",
    "training_x, test_x, training_y, test_y = train_test_split(x,y, random_state=SEED ,test_size = 0.25, stratify = y)\n",
    "print(\"Training with %d elements and testing with %d elements\" %(len(training_x), len(test_x)))\n",
    "\n",
    "t_model = LinearSVC()\n",
    "t_model.fit(training_x, training_y)\n",
    "predictions = t_model.predict(test_x)\n",
    "\n",
    "accuracy = accuracy_score(test_y, predictions)* 100\n",
    "print(\"The acurracy is: %.2f%%\"% accuracy)\n",
    "\n"
   ]
  },
  {
   "cell_type": "code",
   "execution_count": 11,
   "id": "4525c016",
   "metadata": {},
   "outputs": [
    {
     "data": {
      "text/plain": [
       "0    17\n",
       "1     8\n",
       "Name: comprado, dtype: int64"
      ]
     },
     "execution_count": 11,
     "metadata": {},
     "output_type": "execute_result"
    }
   ],
   "source": [
    "test_y.value_counts()"
   ]
  },
  {
   "cell_type": "code",
   "execution_count": 12,
   "id": "8d60151a",
   "metadata": {},
   "outputs": [
    {
     "data": {
      "text/plain": [
       "0    49\n",
       "1    25\n",
       "Name: comprado, dtype: int64"
      ]
     },
     "execution_count": 12,
     "metadata": {},
     "output_type": "execute_result"
    }
   ],
   "source": [
    "training_y.value_counts()"
   ]
  },
  {
   "cell_type": "code",
   "execution_count": null,
   "id": "43c6dd0f",
   "metadata": {},
   "outputs": [],
   "source": []
  }
 ],
 "metadata": {
  "kernelspec": {
   "display_name": "Python 3 (ipykernel)",
   "language": "python",
   "name": "python3"
  },
  "language_info": {
   "codemirror_mode": {
    "name": "ipython",
    "version": 3
   },
   "file_extension": ".py",
   "mimetype": "text/x-python",
   "name": "python",
   "nbconvert_exporter": "python",
   "pygments_lexer": "ipython3",
   "version": "3.9.13"
  }
 },
 "nbformat": 4,
 "nbformat_minor": 5
}
